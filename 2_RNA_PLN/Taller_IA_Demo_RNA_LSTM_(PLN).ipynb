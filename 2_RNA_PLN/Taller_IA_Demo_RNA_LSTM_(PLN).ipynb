{
  "nbformat": 4,
  "nbformat_minor": 0,
  "metadata": {
    "colab": {
      "name": "Taller IA - Demo RNA-LSTM (PLN).ipynb",
      "provenance": [],
      "collapsed_sections": [
        "9XozL7ejPExJ",
        "ephferirPJjA",
        "jdne6YSePP-T",
        "3lZmiFA3REZe",
        "Jsw0g09vPWBU",
        "eCKwEh3XQdM9",
        "AP7oW2VAQgd-",
        "Qd301NuTQjhe",
        "WDqLmk--QpkH",
        "W2pDFmuXQ2Hi",
        "3AZqvR90Q4wQ"
      ]
    },
    "kernelspec": {
      "name": "python3",
      "display_name": "Python 3"
    },
    "language_info": {
      "name": "python"
    }
  },
  "cells": [
    {
      "cell_type": "markdown",
      "source": [
        "# Taller de IA - RNA - Demo Procesamiento Lenguaje Natural (PLN)"
      ],
      "metadata": {
        "id": "1f5XfiIZXDVp"
      }
    },
    {
      "cell_type": "markdown",
      "source": [
        "**CONTEXTO a tratar:**\n",
        "\n",
        "Se tiene un *dataset* con comentarios realizados en determinadas aplicaciones de la tienda de *Android*. A cada comentario se le asocia una cantidad de estrellas, comprendidas entre 1 y 5, siendo 1 la peor calificación y 5 la máxima.\n",
        "\n",
        "Se busca conformar una RNA que permita determinar, en cierto modo, los sentimientos expresados en el comentario. Para ello, se establece una escala en base a la calificación, en donde se tienen las siguientes correspondencias:\n",
        "\n",
        "\n",
        "\n",
        "*   Negativo: 1 y 2 estrellas\n",
        "*   Neutral: 3 estrellas\n",
        "*   Positivo: 4 y 5 estrellas\n",
        "\n",
        "\n",
        "**Detalles:**\n",
        "\n",
        "Trabajamos ahora con datos reales, se aplicó un breve procesamiento para conformar el archivo *csv* a utilizar.\n",
        "\n",
        "Al igual que la demo anterior... se usa un contexto amigable, basado en lo que podemos encontrar en la vida diaria.\n",
        "En este caso, introducimos las LSTM (*Long short-term memory*).\n",
        "\n",
        "Todo lo visto, puede aplicarse de lleno a problemas con series temporales.\n",
        "\n",
        "**¿Ejemplos de series temporales en Ingeniería?**"
      ],
      "metadata": {
        "id": "yuMBqgl0aniW"
      }
    },
    {
      "cell_type": "markdown",
      "source": [
        "## Preprocesamiento"
      ],
      "metadata": {
        "id": "2eHVKWtyXua5"
      }
    },
    {
      "cell_type": "markdown",
      "source": [
        "### Importaciones"
      ],
      "metadata": {
        "id": "9XozL7ejPExJ"
      }
    },
    {
      "cell_type": "code",
      "source": [
        "import numpy as np\n",
        "import pandas as pd \n",
        "import tensorflow as tf\n",
        "import seaborn as sns\n",
        "import re\n",
        "import matplotlib.pyplot as plt\n",
        "\n",
        "\n",
        "from tensorflow.keras.callbacks import ModelCheckpoint\n",
        "from sklearn import preprocessing\n",
        "from sklearn.model_selection import train_test_split\n",
        "from sklearn.metrics import accuracy_score, classification_report, confusion_matrix\n",
        "\n",
        "from tensorflow.keras.models import Sequential\n",
        "from tensorflow.keras.layers import Embedding, Dense, LSTM, Dropout, Bidirectional"
      ],
      "metadata": {
        "id": "0qERdDhMJ2Nx"
      },
      "execution_count": 1,
      "outputs": []
    },
    {
      "cell_type": "code",
      "source": [
        "# Archivos pueden arrastrarse al área de trabajo o procesarse en local\n",
        "\n",
        "# Version Online\n",
        "!wget https://github.com/AxelSkrauba/Taller_IA/raw/main/2_RNA_PLN/data_reviews.zip"
      ],
      "metadata": {
        "colab": {
          "base_uri": "https://localhost:8080/"
        },
        "id": "n5mHW4hUeEUh",
        "outputId": "9ba509c5-c2fd-49b0-c1bd-80efbffd148a"
      },
      "execution_count": 8,
      "outputs": [
        {
          "output_type": "stream",
          "name": "stdout",
          "text": [
            "--2022-08-24 01:44:18--  https://github.com/AxelSkrauba/Taller_IA/raw/main/2_RNA_PLN/data_reviews.zip\n",
            "Resolving github.com (github.com)... 140.82.114.4\n",
            "Connecting to github.com (github.com)|140.82.114.4|:443... connected.\n",
            "HTTP request sent, awaiting response... 302 Found\n",
            "Location: https://raw.githubusercontent.com/AxelSkrauba/Taller_IA/main/2_RNA_PLN/data_reviews.zip [following]\n",
            "--2022-08-24 01:44:19--  https://raw.githubusercontent.com/AxelSkrauba/Taller_IA/main/2_RNA_PLN/data_reviews.zip\n",
            "Resolving raw.githubusercontent.com (raw.githubusercontent.com)... 185.199.108.133, 185.199.109.133, 185.199.110.133, ...\n",
            "Connecting to raw.githubusercontent.com (raw.githubusercontent.com)|185.199.108.133|:443... connected.\n",
            "HTTP request sent, awaiting response... 200 OK\n",
            "Length: 202835 (198K) [application/zip]\n",
            "Saving to: ‘data_reviews.zip’\n",
            "\n",
            "data_reviews.zip    100%[===================>] 198.08K  --.-KB/s    in 0.03s   \n",
            "\n",
            "2022-08-24 01:44:19 (7.74 MB/s) - ‘data_reviews.zip’ saved [202835/202835]\n",
            "\n"
          ]
        }
      ]
    },
    {
      "cell_type": "code",
      "source": [
        "!unzip data_reviews.zip"
      ],
      "metadata": {
        "colab": {
          "base_uri": "https://localhost:8080/"
        },
        "id": "7AjoSeuleSpH",
        "outputId": "843d98e9-2248-481b-b79e-9cff2bf96773"
      },
      "execution_count": 9,
      "outputs": [
        {
          "output_type": "stream",
          "name": "stdout",
          "text": [
            "Archive:  data_reviews.zip\n",
            "  inflating: data_reviews.csv        \n"
          ]
        }
      ]
    },
    {
      "cell_type": "markdown",
      "source": [
        "### Limpieza de los datos"
      ],
      "metadata": {
        "id": "ephferirPJjA"
      }
    },
    {
      "cell_type": "markdown",
      "source": [
        "Toda esta parte pueden ignorarla, me pareció interesante agregar algo de procesamiento como para que tengan una idea de que hay un trabajo previo antes de pasar a las RNA (en mayor medida a la hora de utilizar información real)."
      ],
      "metadata": {
        "id": "deK8eThOh2eN"
      }
    },
    {
      "cell_type": "code",
      "source": [
        "# Fuente\n",
        "\"\"\"\n",
        "from nltk.corpus import stopwords\n",
        "nltk.download('stopwords')\n",
        "stopwords.words('spanish')\n",
        "\"\"\"\n",
        "\n",
        "# Palabras que podrían quitarse porque aportan poco\n",
        "es_stopwords = ['de', 'la', 'que', 'el', 'en', 'y', 'a', 'los', 'del', 'se', 'las', 'por', 'un', 'para', 'con', 'una', 'su', 'al', 'lo', 'como', 'más', 'pero', 'sus', 'le', 'ya', 'o', 'este', 'sí', 'porque', 'esta', 'entre', 'cuando', 'muy', 'sin', 'sobre', 'también', 'me', 'hasta', 'hay', 'donde', 'quien', 'desde', 'todo', 'nos', 'durante', 'todos', 'uno', 'les', 'ni', 'contra', 'otros', 'ese', 'eso', 'ante', 'ellos', 'e', 'esto', 'mí', 'antes', 'algunos', 'qué', 'unos', 'yo', 'otro', 'otras', 'otra', 'él', 'tanto', 'esa', 'estos', 'mucho', 'quienes', 'nada', 'muchos', 'cual', 'poco', 'ella', 'estar', 'estas', 'algunas', 'algo', 'nosotros', 'mi', 'mis', 'tú', 'te', 'ti', 'tu', 'tus', 'ellas', 'nosotras', 'vosotros', 'vosotras', 'os', 'mío', 'mía', 'míos', 'mías', 'tuyo', 'tuya', 'tuyos', 'tuyas', 'suyo', 'suya', 'suyos', 'suyas', 'nuestro', 'nuestra', 'nuestros', 'nuestras', 'vuestro', 'vuestra', 'vuestros', 'vuestras', 'esos', 'esas', 'estoy', 'estás', 'está', 'estamos', 'estáis', 'están', 'esté', 'estés', 'estemos', 'estéis', 'estén', 'estaré', 'estarás', 'estará', 'estaremos', 'estaréis', 'estarán', 'estaría', 'estarías', 'estaríamos', 'estaríais', 'estarían', 'estaba', 'estabas', 'estábamos', 'estabais', 'estaban', 'estuve', 'estuviste', 'estuvo', 'estuvimos', 'estuvisteis', 'estuvieron', 'estuviera', 'estuvieras', 'estuviéramos', 'estuvierais', 'estuvieran', 'estuviese', 'estuvieses', 'estuviésemos', 'estuvieseis', 'estuviesen', 'estando', 'estado', 'estada', 'estados', 'estadas', 'estad', 'he', 'has', 'ha', 'hemos', 'habéis', 'han', 'haya', 'hayas', 'hayamos', 'hayáis', 'hayan', 'habré', 'habrás', 'habrá', 'habremos', 'habréis', 'habrán', 'habría', 'habrías', 'habríamos', 'habríais', 'habrían', 'había', 'habías', 'habíamos', 'habíais', 'habían', 'hube', 'hubiste', 'hubo', 'hubimos', 'hubisteis', 'hubieron', 'hubiera', 'hubieras', 'hubiéramos', 'hubierais', 'hubieran', 'hubiese', 'hubieses', 'hubiésemos', 'hubieseis', 'hubiesen', 'habiendo', 'habido', 'habida', 'habidos', 'habidas', 'soy', 'eres', 'es', 'somos', 'sois', 'son', 'sea', 'seas', 'seamos', 'seáis', 'sean', 'seré', 'serás', 'será', 'seremos', 'seréis', 'serán', 'sería', 'serías', 'seríamos', 'seríais', 'serían', 'era', 'eras', 'éramos', 'erais', 'eran', 'fui', 'fuiste', 'fue', 'fuimos', 'fuisteis', 'fueron', 'fuera', 'fueras', 'fuéramos', 'fuerais', 'fueran', 'fuese', 'fueses', 'fuésemos', 'fueseis', 'fuesen', 'sintiendo', 'sentido', 'sentida', 'sentidos', 'sentidas', 'siente', 'sentid', 'tengo', 'tienes', 'tiene', 'tenemos', 'tenéis', 'tienen', 'tenga', 'tengas', 'tengamos', 'tengáis', 'tengan', 'tendré', 'tendrás', 'tendrá', 'tendremos', 'tendréis', 'tendrán', 'tendría', 'tendrías', 'tendríamos', 'tendríais', 'tendrían', 'tenía', 'tenías', 'teníamos', 'teníais', 'tenían', 'tuve', 'tuviste', 'tuvo', 'tuvimos', 'tuvisteis', 'tuvieron', 'tuviera', 'tuvieras', 'tuviéramos', 'tuvierais', 'tuvieran', 'tuviese', 'tuvieses', 'tuviésemos', 'tuvieseis', 'tuviesen', 'teniendo', 'tenido', 'tenida', 'tenidos', 'tenidas', 'tened']"
      ],
      "metadata": {
        "id": "GMY6YrfqYJyt"
      },
      "execution_count": 10,
      "outputs": []
    },
    {
      "cell_type": "code",
      "execution_count": 21,
      "metadata": {
        "id": "yAwO60srW9x8"
      },
      "outputs": [],
      "source": [
        "dataset = pd.read_csv('data_reviews.csv')"
      ]
    },
    {
      "cell_type": "code",
      "source": [
        "# Se agrega una nueva columna sin stopwords\n",
        "dataset = dataset[dataset['clean_reviews'].notna()]\n",
        "dataset['clean_reviews2']=None\n",
        "import re\n",
        "\n",
        "corpus = []\n",
        "for i in range(len(dataset['clean_reviews'])):\n",
        "    try:\n",
        "        # Me quedo solo con letras, numeros y espacios\n",
        "        review = ''.join(char for char in dataset['clean_reviews'][i] if (char.isalnum() or char.isspace()))\n",
        "        review = review.split()\n",
        "        review = [word for word in review if not word in es_stopwords]\n",
        "        review = ' '.join(review)\n",
        "        dataset['clean_reviews2'][i] = review\n",
        "    except:\n",
        "        dataset['clean_reviews2'][i] = None\n",
        "dataset = dataset.dropna()"
      ],
      "metadata": {
        "colab": {
          "base_uri": "https://localhost:8080/"
        },
        "id": "uO6siQOoZ6DO",
        "outputId": "6e4ac6f3-11ab-4b9e-9e5c-a7f072397316"
      },
      "execution_count": 22,
      "outputs": [
        {
          "output_type": "stream",
          "name": "stderr",
          "text": [
            "/usr/local/lib/python3.7/dist-packages/ipykernel_launcher.py:3: SettingWithCopyWarning: \n",
            "A value is trying to be set on a copy of a slice from a DataFrame.\n",
            "Try using .loc[row_indexer,col_indexer] = value instead\n",
            "\n",
            "See the caveats in the documentation: https://pandas.pydata.org/pandas-docs/stable/user_guide/indexing.html#returning-a-view-versus-a-copy\n",
            "  This is separate from the ipykernel package so we can avoid doing imports until\n",
            "/usr/local/lib/python3.7/dist-packages/ipykernel_launcher.py:14: SettingWithCopyWarning: \n",
            "A value is trying to be set on a copy of a slice from a DataFrame\n",
            "\n",
            "See the caveats in the documentation: https://pandas.pydata.org/pandas-docs/stable/user_guide/indexing.html#returning-a-view-versus-a-copy\n",
            "  \n",
            "/usr/local/lib/python3.7/dist-packages/ipykernel_launcher.py:16: SettingWithCopyWarning: \n",
            "A value is trying to be set on a copy of a slice from a DataFrame\n",
            "\n",
            "See the caveats in the documentation: https://pandas.pydata.org/pandas-docs/stable/user_guide/indexing.html#returning-a-view-versus-a-copy\n",
            "  app.launch_new_instance()\n"
          ]
        }
      ]
    },
    {
      "cell_type": "code",
      "source": [
        "# Visualización de los datos\n",
        "# Si están en Colab, pueden convertir la tabla en editable con el lápiz de la esquina inferior y chusmear un poco el efecto del preprocesamiento.\n",
        "dataset"
      ],
      "metadata": {
        "colab": {
          "base_uri": "https://localhost:8080/",
          "height": 641
        },
        "id": "iTNO_Ff0fa1K",
        "outputId": "d1be792b-94d4-40cc-9099-831c74b4b533"
      },
      "execution_count": 23,
      "outputs": [
        {
          "output_type": "execute_result",
          "data": {
            "text/plain": [
              "                                                reviews  \\\n",
              "0     Super confiable...cuando tuve problemas con la...   \n",
              "1     Tiene un buen diseño, y te aseguras de no entr...   \n",
              "2     En mí caso la forma más cómoda de realizar com...   \n",
              "3     Facilita muchas cosas: podes ver precios, moda...   \n",
              "4     Funciona correctamente. Una sugerencia: en cie...   \n",
              "...                                                 ...   \n",
              "4530  Hola me pide verificar mi cuenta con el número...   \n",
              "4531  Hasta ayer, funcionaba de 10! Ahora no puedo a...   \n",
              "4532  La app va bien, pero debes en cuando las trans...   \n",
              "4533  Les daria media estrella.... 7 dias sin poder ...   \n",
              "4534  Buenísima la app me facilitó muchas compras y ...   \n",
              "\n",
              "                                   stars  rating sentiment  class  \\\n",
              "0     Calificación: 5 de cinco estrellas       5  positivo      2   \n",
              "1     Calificación: 5 de cinco estrellas       5  positivo      2   \n",
              "2     Calificación: 5 de cinco estrellas       5  positivo      2   \n",
              "3     Calificación: 4 de cinco estrellas       4  positivo      2   \n",
              "4     Calificación: 5 de cinco estrellas       5  positivo      2   \n",
              "...                                  ...     ...       ...    ...   \n",
              "4530  Calificación: 5 de cinco estrellas       5  positivo      2   \n",
              "4531  Calificación: 3 de cinco estrellas       3   neutral      1   \n",
              "4532  Calificación: 2 de cinco estrellas       2  negativo      0   \n",
              "4533  Calificación: 1 de cinco estrellas       1  negativo      0   \n",
              "4534  Calificación: 4 de cinco estrellas       4  positivo      2   \n",
              "\n",
              "                                          clean_reviews  \\\n",
              "0     super confiable...cuando tuve problemas con la...   \n",
              "1     tiene un buen diseño, y te aseguras de no entr...   \n",
              "2     en mí caso la forma más cómoda de realizar com...   \n",
              "3     facilita muchas cosas: podes ver precios, moda...   \n",
              "4     funcióna correctamente. una sugerencia: en cie...   \n",
              "...                                                 ...   \n",
              "4530  hola me pide verificar mi cuenta con el número...   \n",
              "4531  hasta ayer, funciónaba de 10! ahora no puedo a...   \n",
              "4532  la app va bien, pero debes en cuando las trans...   \n",
              "4533  les daria media estrella.... 7 dias sin poder ...   \n",
              "4534  buenísima la app me facilitó muchas compras y ...   \n",
              "\n",
              "                                         clean_reviews2  \n",
              "0     super confiablecuando problemas demora envío p...  \n",
              "1     buen diseño aseguras no entrar estafa obviamen...  \n",
              "2     caso forma cómoda realizar compras online form...  \n",
              "3     facilita muchas cosas podes ver precios modali...  \n",
              "4     funcióna correctamente sugerencia ciertos mome...  \n",
              "...                                                 ...  \n",
              "4530  hola pide verificar cuenta número celular no c...  \n",
              "4531  ayer funciónaba 10 ahora no puedo abrir aplica...  \n",
              "4532  app va bien debes transferencias no llegan hac...  \n",
              "4533  daria media estrella 7 dias poder hacer transf...  \n",
              "4534  buenísima app facilitó muchas compras paga ins...  \n",
              "\n",
              "[4512 rows x 7 columns]"
            ],
            "text/html": [
              "\n",
              "  <div id=\"df-59a68fdc-187d-4762-8bb8-4a6c64ea1195\">\n",
              "    <div class=\"colab-df-container\">\n",
              "      <div>\n",
              "<style scoped>\n",
              "    .dataframe tbody tr th:only-of-type {\n",
              "        vertical-align: middle;\n",
              "    }\n",
              "\n",
              "    .dataframe tbody tr th {\n",
              "        vertical-align: top;\n",
              "    }\n",
              "\n",
              "    .dataframe thead th {\n",
              "        text-align: right;\n",
              "    }\n",
              "</style>\n",
              "<table border=\"1\" class=\"dataframe\">\n",
              "  <thead>\n",
              "    <tr style=\"text-align: right;\">\n",
              "      <th></th>\n",
              "      <th>reviews</th>\n",
              "      <th>stars</th>\n",
              "      <th>rating</th>\n",
              "      <th>sentiment</th>\n",
              "      <th>class</th>\n",
              "      <th>clean_reviews</th>\n",
              "      <th>clean_reviews2</th>\n",
              "    </tr>\n",
              "  </thead>\n",
              "  <tbody>\n",
              "    <tr>\n",
              "      <th>0</th>\n",
              "      <td>Super confiable...cuando tuve problemas con la...</td>\n",
              "      <td>Calificación: 5 de cinco estrellas</td>\n",
              "      <td>5</td>\n",
              "      <td>positivo</td>\n",
              "      <td>2</td>\n",
              "      <td>super confiable...cuando tuve problemas con la...</td>\n",
              "      <td>super confiablecuando problemas demora envío p...</td>\n",
              "    </tr>\n",
              "    <tr>\n",
              "      <th>1</th>\n",
              "      <td>Tiene un buen diseño, y te aseguras de no entr...</td>\n",
              "      <td>Calificación: 5 de cinco estrellas</td>\n",
              "      <td>5</td>\n",
              "      <td>positivo</td>\n",
              "      <td>2</td>\n",
              "      <td>tiene un buen diseño, y te aseguras de no entr...</td>\n",
              "      <td>buen diseño aseguras no entrar estafa obviamen...</td>\n",
              "    </tr>\n",
              "    <tr>\n",
              "      <th>2</th>\n",
              "      <td>En mí caso la forma más cómoda de realizar com...</td>\n",
              "      <td>Calificación: 5 de cinco estrellas</td>\n",
              "      <td>5</td>\n",
              "      <td>positivo</td>\n",
              "      <td>2</td>\n",
              "      <td>en mí caso la forma más cómoda de realizar com...</td>\n",
              "      <td>caso forma cómoda realizar compras online form...</td>\n",
              "    </tr>\n",
              "    <tr>\n",
              "      <th>3</th>\n",
              "      <td>Facilita muchas cosas: podes ver precios, moda...</td>\n",
              "      <td>Calificación: 4 de cinco estrellas</td>\n",
              "      <td>4</td>\n",
              "      <td>positivo</td>\n",
              "      <td>2</td>\n",
              "      <td>facilita muchas cosas: podes ver precios, moda...</td>\n",
              "      <td>facilita muchas cosas podes ver precios modali...</td>\n",
              "    </tr>\n",
              "    <tr>\n",
              "      <th>4</th>\n",
              "      <td>Funciona correctamente. Una sugerencia: en cie...</td>\n",
              "      <td>Calificación: 5 de cinco estrellas</td>\n",
              "      <td>5</td>\n",
              "      <td>positivo</td>\n",
              "      <td>2</td>\n",
              "      <td>funcióna correctamente. una sugerencia: en cie...</td>\n",
              "      <td>funcióna correctamente sugerencia ciertos mome...</td>\n",
              "    </tr>\n",
              "    <tr>\n",
              "      <th>...</th>\n",
              "      <td>...</td>\n",
              "      <td>...</td>\n",
              "      <td>...</td>\n",
              "      <td>...</td>\n",
              "      <td>...</td>\n",
              "      <td>...</td>\n",
              "      <td>...</td>\n",
              "    </tr>\n",
              "    <tr>\n",
              "      <th>4530</th>\n",
              "      <td>Hola me pide verificar mi cuenta con el número...</td>\n",
              "      <td>Calificación: 5 de cinco estrellas</td>\n",
              "      <td>5</td>\n",
              "      <td>positivo</td>\n",
              "      <td>2</td>\n",
              "      <td>hola me pide verificar mi cuenta con el número...</td>\n",
              "      <td>hola pide verificar cuenta número celular no c...</td>\n",
              "    </tr>\n",
              "    <tr>\n",
              "      <th>4531</th>\n",
              "      <td>Hasta ayer, funcionaba de 10! Ahora no puedo a...</td>\n",
              "      <td>Calificación: 3 de cinco estrellas</td>\n",
              "      <td>3</td>\n",
              "      <td>neutral</td>\n",
              "      <td>1</td>\n",
              "      <td>hasta ayer, funciónaba de 10! ahora no puedo a...</td>\n",
              "      <td>ayer funciónaba 10 ahora no puedo abrir aplica...</td>\n",
              "    </tr>\n",
              "    <tr>\n",
              "      <th>4532</th>\n",
              "      <td>La app va bien, pero debes en cuando las trans...</td>\n",
              "      <td>Calificación: 2 de cinco estrellas</td>\n",
              "      <td>2</td>\n",
              "      <td>negativo</td>\n",
              "      <td>0</td>\n",
              "      <td>la app va bien, pero debes en cuando las trans...</td>\n",
              "      <td>app va bien debes transferencias no llegan hac...</td>\n",
              "    </tr>\n",
              "    <tr>\n",
              "      <th>4533</th>\n",
              "      <td>Les daria media estrella.... 7 dias sin poder ...</td>\n",
              "      <td>Calificación: 1 de cinco estrellas</td>\n",
              "      <td>1</td>\n",
              "      <td>negativo</td>\n",
              "      <td>0</td>\n",
              "      <td>les daria media estrella.... 7 dias sin poder ...</td>\n",
              "      <td>daria media estrella 7 dias poder hacer transf...</td>\n",
              "    </tr>\n",
              "    <tr>\n",
              "      <th>4534</th>\n",
              "      <td>Buenísima la app me facilitó muchas compras y ...</td>\n",
              "      <td>Calificación: 4 de cinco estrellas</td>\n",
              "      <td>4</td>\n",
              "      <td>positivo</td>\n",
              "      <td>2</td>\n",
              "      <td>buenísima la app me facilitó muchas compras y ...</td>\n",
              "      <td>buenísima app facilitó muchas compras paga ins...</td>\n",
              "    </tr>\n",
              "  </tbody>\n",
              "</table>\n",
              "<p>4512 rows × 7 columns</p>\n",
              "</div>\n",
              "      <button class=\"colab-df-convert\" onclick=\"convertToInteractive('df-59a68fdc-187d-4762-8bb8-4a6c64ea1195')\"\n",
              "              title=\"Convert this dataframe to an interactive table.\"\n",
              "              style=\"display:none;\">\n",
              "        \n",
              "  <svg xmlns=\"http://www.w3.org/2000/svg\" height=\"24px\"viewBox=\"0 0 24 24\"\n",
              "       width=\"24px\">\n",
              "    <path d=\"M0 0h24v24H0V0z\" fill=\"none\"/>\n",
              "    <path d=\"M18.56 5.44l.94 2.06.94-2.06 2.06-.94-2.06-.94-.94-2.06-.94 2.06-2.06.94zm-11 1L8.5 8.5l.94-2.06 2.06-.94-2.06-.94L8.5 2.5l-.94 2.06-2.06.94zm10 10l.94 2.06.94-2.06 2.06-.94-2.06-.94-.94-2.06-.94 2.06-2.06.94z\"/><path d=\"M17.41 7.96l-1.37-1.37c-.4-.4-.92-.59-1.43-.59-.52 0-1.04.2-1.43.59L10.3 9.45l-7.72 7.72c-.78.78-.78 2.05 0 2.83L4 21.41c.39.39.9.59 1.41.59.51 0 1.02-.2 1.41-.59l7.78-7.78 2.81-2.81c.8-.78.8-2.07 0-2.86zM5.41 20L4 18.59l7.72-7.72 1.47 1.35L5.41 20z\"/>\n",
              "  </svg>\n",
              "      </button>\n",
              "      \n",
              "  <style>\n",
              "    .colab-df-container {\n",
              "      display:flex;\n",
              "      flex-wrap:wrap;\n",
              "      gap: 12px;\n",
              "    }\n",
              "\n",
              "    .colab-df-convert {\n",
              "      background-color: #E8F0FE;\n",
              "      border: none;\n",
              "      border-radius: 50%;\n",
              "      cursor: pointer;\n",
              "      display: none;\n",
              "      fill: #1967D2;\n",
              "      height: 32px;\n",
              "      padding: 0 0 0 0;\n",
              "      width: 32px;\n",
              "    }\n",
              "\n",
              "    .colab-df-convert:hover {\n",
              "      background-color: #E2EBFA;\n",
              "      box-shadow: 0px 1px 2px rgba(60, 64, 67, 0.3), 0px 1px 3px 1px rgba(60, 64, 67, 0.15);\n",
              "      fill: #174EA6;\n",
              "    }\n",
              "\n",
              "    [theme=dark] .colab-df-convert {\n",
              "      background-color: #3B4455;\n",
              "      fill: #D2E3FC;\n",
              "    }\n",
              "\n",
              "    [theme=dark] .colab-df-convert:hover {\n",
              "      background-color: #434B5C;\n",
              "      box-shadow: 0px 1px 3px 1px rgba(0, 0, 0, 0.15);\n",
              "      filter: drop-shadow(0px 1px 2px rgba(0, 0, 0, 0.3));\n",
              "      fill: #FFFFFF;\n",
              "    }\n",
              "  </style>\n",
              "\n",
              "      <script>\n",
              "        const buttonEl =\n",
              "          document.querySelector('#df-59a68fdc-187d-4762-8bb8-4a6c64ea1195 button.colab-df-convert');\n",
              "        buttonEl.style.display =\n",
              "          google.colab.kernel.accessAllowed ? 'block' : 'none';\n",
              "\n",
              "        async function convertToInteractive(key) {\n",
              "          const element = document.querySelector('#df-59a68fdc-187d-4762-8bb8-4a6c64ea1195');\n",
              "          const dataTable =\n",
              "            await google.colab.kernel.invokeFunction('convertToInteractive',\n",
              "                                                     [key], {});\n",
              "          if (!dataTable) return;\n",
              "\n",
              "          const docLinkHtml = 'Like what you see? Visit the ' +\n",
              "            '<a target=\"_blank\" href=https://colab.research.google.com/notebooks/data_table.ipynb>data table notebook</a>'\n",
              "            + ' to learn more about interactive tables.';\n",
              "          element.innerHTML = '';\n",
              "          dataTable['output_type'] = 'display_data';\n",
              "          await google.colab.output.renderOutput(dataTable, element);\n",
              "          const docLink = document.createElement('div');\n",
              "          docLink.innerHTML = docLinkHtml;\n",
              "          element.appendChild(docLink);\n",
              "        }\n",
              "      </script>\n",
              "    </div>\n",
              "  </div>\n",
              "  "
            ]
          },
          "metadata": {},
          "execution_count": 23
        }
      ]
    },
    {
      "cell_type": "markdown",
      "source": [
        "### Codificación de la información"
      ],
      "metadata": {
        "id": "jdne6YSePP-T"
      }
    },
    {
      "cell_type": "code",
      "source": [
        "# Proceso de codificacion de palabras\n",
        "# Charlamos un poco de esto\n",
        "# En resumidas cuentas... buscamos una manera de transformar la serie temporal humana (oraciones y párrafos),\n",
        "# en series temporales que pueden ser analizadas por la RNA.\n",
        "from tensorflow.keras.preprocessing.text import one_hot\n",
        "\n",
        "VOCABULARIO_LIM = 10000\n",
        "onehot_repr=[one_hot(words,VOCABULARIO_LIM) for words in dataset['clean_reviews2']]"
      ],
      "metadata": {
        "id": "sEmWccsJnfdM"
      },
      "execution_count": 24,
      "outputs": []
    },
    {
      "cell_type": "code",
      "source": [
        "# Comentario con más palabras\n",
        "PAL_MAX = 0\n",
        "for x in dataset['clean_reviews2']:\n",
        "    PAL_MAX = max(PAL_MAX,len(x.split(' ')))\n",
        "print(PAL_MAX)"
      ],
      "metadata": {
        "colab": {
          "base_uri": "https://localhost:8080/"
        },
        "id": "obboaNxuo4Kw",
        "outputId": "898371a8-f149-4fe4-9cf1-0c444cd5c1ff"
      },
      "execution_count": 25,
      "outputs": [
        {
          "output_type": "stream",
          "name": "stdout",
          "text": [
            "131\n"
          ]
        }
      ]
    },
    {
      "cell_type": "code",
      "source": [
        "from tensorflow.keras.preprocessing.sequence import pad_sequences\n",
        "\n",
        "embedded_docs=pad_sequences(onehot_repr,padding='pre',maxlen=PAL_MAX)\n",
        "print(embedded_docs)"
      ],
      "metadata": {
        "colab": {
          "base_uri": "https://localhost:8080/"
        },
        "id": "n7UPeCT4pQPc",
        "outputId": "1e9442dd-c167-4be6-ed94-ac64990249f8"
      },
      "execution_count": 26,
      "outputs": [
        {
          "output_type": "stream",
          "name": "stdout",
          "text": [
            "[[   0    0    0 ... 5559 1274 1709]\n",
            " [   0    0    0 ... 5168 2481 6433]\n",
            " [   0    0    0 ... 2964 5970 9598]\n",
            " ...\n",
            " [   0    0    0 ... 3215 4423 8900]\n",
            " [   0    0    0 ... 2018 1373 9738]\n",
            " [   0    0    0 ... 9598 1953 7857]]\n"
          ]
        }
      ]
    },
    {
      "cell_type": "code",
      "source": [
        "len(embedded_docs)"
      ],
      "metadata": {
        "colab": {
          "base_uri": "https://localhost:8080/"
        },
        "id": "vuP7UQLapjzT",
        "outputId": "ccbc41e2-726f-4beb-c6dc-0926821b540a"
      },
      "execution_count": 27,
      "outputs": [
        {
          "output_type": "execute_result",
          "data": {
            "text/plain": [
              "4512"
            ]
          },
          "metadata": {},
          "execution_count": 27
        }
      ]
    },
    {
      "cell_type": "code",
      "source": [
        "# Codificación de las clases de salida (negativo, neutral, positivo)\n",
        "label_encoder = preprocessing.LabelEncoder()\n",
        "\n",
        "y = dataset['sentiment']\n",
        "y = label_encoder.fit_transform(y)\n",
        "\n",
        "X_data = np.array(embedded_docs)\n",
        "y_data = np.array(y)\n",
        "\n",
        "# Verificación de tamaños, deben ser coherentes las cantidades (entrada y salida para la red)\n",
        "X_data.shape, y_data.shape"
      ],
      "metadata": {
        "id": "_bAEngDxP3S6",
        "colab": {
          "base_uri": "https://localhost:8080/"
        },
        "outputId": "f04be1a2-a04a-4467-bbfe-fad152b1369b"
      },
      "execution_count": 28,
      "outputs": [
        {
          "output_type": "execute_result",
          "data": {
            "text/plain": [
              "((4512, 131), (4512,))"
            ]
          },
          "metadata": {},
          "execution_count": 28
        }
      ]
    },
    {
      "cell_type": "markdown",
      "source": [
        "## RNA"
      ],
      "metadata": {
        "id": "3lZmiFA3REZe"
      }
    },
    {
      "cell_type": "markdown",
      "source": [
        "### Definición del modelo"
      ],
      "metadata": {
        "id": "Jsw0g09vPWBU"
      }
    },
    {
      "cell_type": "code",
      "source": [
        "embedding_vector_features = 100\n",
        "model=Sequential()\n",
        "model.add(Embedding(VOCABULARIO_LIM, embedding_vector_features, input_length=PAL_MAX)) # Importante tamaño de entrada\n",
        "model.add(Dropout(0.3))\n",
        "model.add(Bidirectional(LSTM(64))) # La magia para series temporales - Long short-term memory\n",
        "model.add(Dropout(0.3))\n",
        "\n",
        "# Acá se pueden probar topologías\n",
        "model.add(Dense(64, activation='relu', kernel_regularizer=tf.keras.regularizers.l1(0.01)))\n",
        "model.add(Dropout(0.3))\n",
        "model.add(Dense(3, activation='softmax')) # Importante tamaño de salida, sale de la codificación de las 3 clases\n",
        "model.compile(loss='sparse_categorical_crossentropy', optimizer=tf.keras.optimizers.Adam(learning_rate=0.01), metrics=['accuracy'])\n",
        "model.summary()\n",
        "\n",
        "# Así como está... notar que es un modelo de más de UN MILLÓN de parámetros"
      ],
      "metadata": {
        "colab": {
          "base_uri": "https://localhost:8080/"
        },
        "id": "0D6MRbHwqCTD",
        "outputId": "764a091f-d7c3-4d4d-a55f-f4742a714bd2"
      },
      "execution_count": 29,
      "outputs": [
        {
          "output_type": "stream",
          "name": "stdout",
          "text": [
            "Model: \"sequential_1\"\n",
            "_________________________________________________________________\n",
            " Layer (type)                Output Shape              Param #   \n",
            "=================================================================\n",
            " embedding_1 (Embedding)     (None, 131, 100)          1000000   \n",
            "                                                                 \n",
            " dropout_3 (Dropout)         (None, 131, 100)          0         \n",
            "                                                                 \n",
            " bidirectional_1 (Bidirectio  (None, 128)              84480     \n",
            " nal)                                                            \n",
            "                                                                 \n",
            " dropout_4 (Dropout)         (None, 128)               0         \n",
            "                                                                 \n",
            " dense_2 (Dense)             (None, 64)                8256      \n",
            "                                                                 \n",
            " dropout_5 (Dropout)         (None, 64)                0         \n",
            "                                                                 \n",
            " dense_3 (Dense)             (None, 3)                 195       \n",
            "                                                                 \n",
            "=================================================================\n",
            "Total params: 1,092,931\n",
            "Trainable params: 1,092,931\n",
            "Non-trainable params: 0\n",
            "_________________________________________________________________\n"
          ]
        }
      ]
    },
    {
      "cell_type": "markdown",
      "source": [
        "### División de los sets"
      ],
      "metadata": {
        "id": "eCKwEh3XQdM9"
      }
    },
    {
      "cell_type": "code",
      "source": [
        "# Subdividimos 2 veces. Conseguimos 3 sets diferentes: train, val y test. El de test usamos recién al final, no interviene en el entrenamiento.\n",
        "X_train, X_test, y_train, y_test = train_test_split(X_data, y_data, test_size=0.2, random_state=1)\n",
        "X_train, X_val, y_train, y_val = train_test_split(X_train, y_train, test_size=0.2, random_state=1)"
      ],
      "metadata": {
        "id": "oTOYI1h1rhs8"
      },
      "execution_count": 30,
      "outputs": []
    },
    {
      "cell_type": "markdown",
      "source": [
        "### Entrenamiento"
      ],
      "metadata": {
        "id": "AP7oW2VAQgd-"
      }
    },
    {
      "cell_type": "markdown",
      "source": [
        "Este va a tardar un poco más que los anteriores. Con los recursos de Colab, serían unos 2 minutos aproximadamente (nada en comparación a los modelos actuales igualmente)."
      ],
      "metadata": {
        "id": "L8fp3zSdlm6h"
      }
    },
    {
      "cell_type": "code",
      "source": [
        "# Acá implementamos algo nuevo. Guardamos los pesos del mejor modelo resultante en el entrenamiento\n",
        "# Al final, va demostración de cómo podría usarse para predicciones sobre nuevas entradas\n",
        "model_save = ModelCheckpoint('weights.h5', save_best_only = True, save_weights_only = True, monitor = 'val_loss', \n",
        "                             mode = 'min', verbose = 1)\n",
        "history = model.fit(X_train, y_train, validation_data=(X_val, y_val), epochs=10, batch_size=256, callbacks=[model_save])"
      ],
      "metadata": {
        "colab": {
          "base_uri": "https://localhost:8080/"
        },
        "id": "FgTxuGErr4SJ",
        "outputId": "54468584-1ae2-427f-8b11-10f8c29dedcc"
      },
      "execution_count": 31,
      "outputs": [
        {
          "output_type": "stream",
          "name": "stdout",
          "text": [
            "Epoch 1/10\n",
            "12/12 [==============================] - ETA: 0s - loss: 4.9819 - accuracy: 0.5913\n",
            "Epoch 1: val_loss improved from inf to 2.00646, saving model to weights.h5\n",
            "12/12 [==============================] - 16s 1s/step - loss: 4.9819 - accuracy: 0.5913 - val_loss: 2.0065 - val_accuracy: 0.7729\n",
            "Epoch 2/10\n",
            "12/12 [==============================] - ETA: 0s - loss: 1.4858 - accuracy: 0.8559\n",
            "Epoch 2: val_loss improved from 2.00646 to 1.64839, saving model to weights.h5\n",
            "12/12 [==============================] - 13s 1s/step - loss: 1.4858 - accuracy: 0.8559 - val_loss: 1.6484 - val_accuracy: 0.5997\n",
            "Epoch 3/10\n",
            "12/12 [==============================] - ETA: 0s - loss: 0.9993 - accuracy: 0.8663\n",
            "Epoch 3: val_loss improved from 1.64839 to 0.97413, saving model to weights.h5\n",
            "12/12 [==============================] - 14s 1s/step - loss: 0.9993 - accuracy: 0.8663 - val_loss: 0.9741 - val_accuracy: 0.8158\n",
            "Epoch 4/10\n",
            "12/12 [==============================] - ETA: 0s - loss: 0.6465 - accuracy: 0.9141\n",
            "Epoch 4: val_loss improved from 0.97413 to 0.80349, saving model to weights.h5\n",
            "12/12 [==============================] - 10s 832ms/step - loss: 0.6465 - accuracy: 0.9141 - val_loss: 0.8035 - val_accuracy: 0.8172\n",
            "Epoch 5/10\n",
            "12/12 [==============================] - ETA: 0s - loss: 0.4923 - accuracy: 0.9238\n",
            "Epoch 5: val_loss improved from 0.80349 to 0.76190, saving model to weights.h5\n",
            "12/12 [==============================] - 10s 872ms/step - loss: 0.4923 - accuracy: 0.9238 - val_loss: 0.7619 - val_accuracy: 0.8199\n",
            "Epoch 6/10\n",
            "12/12 [==============================] - ETA: 0s - loss: 0.4178 - accuracy: 0.9280\n",
            "Epoch 6: val_loss improved from 0.76190 to 0.75626, saving model to weights.h5\n",
            "12/12 [==============================] - 10s 844ms/step - loss: 0.4178 - accuracy: 0.9280 - val_loss: 0.7563 - val_accuracy: 0.8213\n",
            "Epoch 7/10\n",
            "12/12 [==============================] - ETA: 0s - loss: 0.3833 - accuracy: 0.9359\n",
            "Epoch 7: val_loss did not improve from 0.75626\n",
            "12/12 [==============================] - 11s 896ms/step - loss: 0.3833 - accuracy: 0.9359 - val_loss: 0.8072 - val_accuracy: 0.8130\n",
            "Epoch 8/10\n",
            "12/12 [==============================] - ETA: 0s - loss: 0.3586 - accuracy: 0.9591\n",
            "Epoch 8: val_loss did not improve from 0.75626\n",
            "12/12 [==============================] - 10s 854ms/step - loss: 0.3586 - accuracy: 0.9591 - val_loss: 0.8908 - val_accuracy: 0.8172\n",
            "Epoch 9/10\n",
            "12/12 [==============================] - ETA: 0s - loss: 0.3440 - accuracy: 0.9636\n",
            "Epoch 9: val_loss did not improve from 0.75626\n",
            "12/12 [==============================] - 10s 835ms/step - loss: 0.3440 - accuracy: 0.9636 - val_loss: 0.9143 - val_accuracy: 0.7784\n",
            "Epoch 10/10\n",
            "12/12 [==============================] - ETA: 0s - loss: 0.3329 - accuracy: 0.9681\n",
            "Epoch 10: val_loss did not improve from 0.75626\n",
            "12/12 [==============================] - 10s 828ms/step - loss: 0.3329 - accuracy: 0.9681 - val_loss: 0.8980 - val_accuracy: 0.7964\n"
          ]
        }
      ]
    },
    {
      "cell_type": "markdown",
      "source": [
        "### Métricas resultantes del entrenamiento"
      ],
      "metadata": {
        "id": "Qd301NuTQjhe"
      }
    },
    {
      "cell_type": "code",
      "source": [
        "#print(history.history.keys())\n",
        "#  \"Accuracy\"\n",
        "plt.plot(history.history['accuracy'])\n",
        "plt.plot(history.history['val_accuracy'])\n",
        "plt.title('Precisión del Modelo')\n",
        "plt.ylabel('Accuracy')\n",
        "plt.xlabel('Epoch')\n",
        "plt.legend(['Train', 'Validation'], loc='upper left')\n",
        "plt.show()\n",
        "# \"Loss\"\n",
        "plt.plot(history.history['loss'])\n",
        "plt.plot(history.history['val_loss'])\n",
        "plt.title('Pérdida del Modelo')\n",
        "plt.ylabel('Loss')\n",
        "plt.xlabel('Epoch')\n",
        "plt.legend(['Train', 'Validation'], loc='upper left')\n",
        "plt.show()"
      ],
      "metadata": {
        "colab": {
          "base_uri": "https://localhost:8080/",
          "height": 573
        },
        "id": "kYtkXf2rsIzb",
        "outputId": "586876e2-a462-4570-d4bb-17ee588f3e29"
      },
      "execution_count": 32,
      "outputs": [
        {
          "output_type": "display_data",
          "data": {
            "text/plain": [
              "<Figure size 432x288 with 1 Axes>"
            ],
            "image/png": "[encoded data removed]"
          },
          "metadata": {
            "needs_background": "light"
          }
        },
        {
          "output_type": "display_data",
          "data": {
            "text/plain": [
              "<Figure size 432x288 with 1 Axes>"
            ],
            "image/png": "[encoded data removed]"
          },
          "metadata": {
            "needs_background": "light"
          }
        }
      ]
    },
    {
      "cell_type": "markdown",
      "source": [
        "### Prediciones sobre el set de Test"
      ],
      "metadata": {
        "id": "WDqLmk--QpkH"
      }
    },
    {
      "cell_type": "code",
      "source": [
        "# Levantamos el mejor modelo\n",
        "model.load_weights('weights.h5')\n",
        "\n",
        "# Predicciones de los datos en test\n",
        "y_pred = model.predict(X_test)\n",
        "print(y_pred)\n",
        "\n",
        "# Devuelve un vector con la pertenencia a cada clase, probabilidad"
      ],
      "metadata": {
        "colab": {
          "base_uri": "https://localhost:8080/"
        },
        "id": "VuuH393hskXy",
        "outputId": "49ec803b-4b90-475d-8348-c1ccb776d9bd"
      },
      "execution_count": 33,
      "outputs": [
        {
          "output_type": "stream",
          "name": "stdout",
          "text": [
            "[[0.013969   0.03664461 0.94938636]\n",
            " [0.01148371 0.03014277 0.95837355]\n",
            " [0.9261742  0.04716626 0.02665962]\n",
            " ...\n",
            " [0.96469516 0.0223983  0.01290649]\n",
            " [0.96613765 0.02090688 0.01295542]\n",
            " [0.26787162 0.17028987 0.56183845]]\n"
          ]
        }
      ]
    },
    {
      "cell_type": "code",
      "source": [
        "# Pequeña función para evaluar la respuesta y obtener la clase emergente\n",
        "def predict_class(y_pred):\n",
        "    y_class = []\n",
        "    for i in y_pred:\n",
        "        y_class.append(int(np.where(i == np.amax(i))[0]))\n",
        "    \n",
        "    return np.array(y_class)"
      ],
      "metadata": {
        "id": "MeLQoK5oDahN"
      },
      "execution_count": 34,
      "outputs": []
    },
    {
      "cell_type": "code",
      "source": [
        "y_pred_class = predict_class(y_pred)\n",
        "# Ahora se puede comparar directamente y_pred con y_test"
      ],
      "metadata": {
        "id": "LE9uJIbZEIpP"
      },
      "execution_count": 35,
      "outputs": []
    },
    {
      "cell_type": "code",
      "source": [
        "y_pred_class\n",
        "# Ahora queda en evidencia que una comparación visual es... poco eficiente :/"
      ],
      "metadata": {
        "colab": {
          "base_uri": "https://localhost:8080/"
        },
        "id": "g-UcySn-FXfW",
        "outputId": "7eeec041-7057-448f-f6f4-078d3014c01e"
      },
      "execution_count": 36,
      "outputs": [
        {
          "output_type": "execute_result",
          "data": {
            "text/plain": [
              "array([2, 2, 0, 0, 0, 0, 2, 2, 0, 2, 2, 2, 0, 0, 2, 0, 2, 0, 2, 0, 2, 0,\n",
              "       2, 0, 0, 0, 0, 2, 0, 0, 0, 2, 2, 0, 0, 2, 0, 0, 2, 0, 0, 0, 2, 2,\n",
              "       0, 0, 0, 2, 0, 2, 0, 0, 0, 0, 2, 2, 0, 2, 2, 0, 0, 0, 0, 0, 0, 0,\n",
              "       0, 2, 2, 2, 0, 2, 0, 0, 2, 2, 0, 0, 0, 0, 0, 0, 0, 2, 2, 0, 0, 2,\n",
              "       2, 0, 0, 0, 2, 0, 2, 0, 0, 0, 0, 2, 0, 0, 0, 2, 0, 2, 0, 2, 0, 0,\n",
              "       2, 0, 2, 0, 2, 0, 0, 2, 2, 2, 0, 0, 0, 2, 2, 2, 0, 0, 0, 2, 0, 2,\n",
              "       0, 2, 0, 2, 0, 0, 2, 0, 2, 0, 0, 2, 0, 2, 2, 2, 2, 0, 0, 2, 2, 0,\n",
              "       0, 2, 0, 0, 2, 2, 2, 2, 0, 0, 0, 0, 0, 0, 0, 0, 2, 0, 2, 0, 0, 2,\n",
              "       0, 2, 0, 0, 0, 2, 2, 2, 0, 2, 0, 0, 2, 0, 2, 0, 2, 0, 0, 0, 0, 0,\n",
              "       2, 2, 2, 2, 0, 0, 2, 2, 0, 0, 2, 0, 2, 0, 0, 0, 0, 0, 0, 0, 2, 2,\n",
              "       0, 0, 2, 2, 0, 2, 0, 0, 0, 2, 2, 0, 2, 0, 2, 2, 2, 2, 2, 0, 0, 0,\n",
              "       2, 0, 0, 2, 2, 0, 0, 0, 2, 0, 0, 0, 2, 0, 2, 0, 0, 0, 0, 0, 0, 2,\n",
              "       0, 0, 0, 2, 2, 2, 2, 0, 2, 0, 0, 0, 0, 2, 0, 0, 2, 0, 2, 0, 0, 2,\n",
              "       0, 2, 0, 0, 0, 0, 0, 0, 0, 0, 0, 0, 2, 2, 0, 0, 0, 2, 2, 0, 0, 0,\n",
              "       2, 0, 0, 2, 2, 0, 2, 0, 0, 0, 0, 0, 2, 0, 0, 0, 0, 0, 0, 2, 0, 0,\n",
              "       0, 2, 0, 0, 0, 0, 2, 2, 0, 2, 0, 0, 0, 2, 2, 0, 0, 2, 0, 0, 0, 2,\n",
              "       0, 0, 0, 0, 2, 2, 0, 0, 0, 0, 0, 0, 0, 2, 0, 0, 0, 0, 2, 0, 0, 0,\n",
              "       0, 0, 2, 0, 2, 0, 2, 2, 2, 2, 0, 0, 0, 2, 0, 0, 2, 0, 0, 0, 2, 2,\n",
              "       0, 2, 2, 0, 2, 0, 2, 0, 0, 2, 2, 0, 0, 2, 0, 0, 2, 0, 2, 2, 2, 2,\n",
              "       0, 2, 0, 2, 0, 2, 0, 2, 0, 0, 0, 0, 0, 0, 0, 0, 0, 0, 2, 0, 0, 2,\n",
              "       0, 2, 2, 2, 2, 0, 0, 2, 0, 2, 0, 2, 0, 2, 0, 2, 2, 2, 0, 0, 2, 0,\n",
              "       0, 0, 2, 0, 0, 0, 0, 0, 0, 2, 0, 0, 0, 2, 0, 2, 0, 0, 0, 0, 0, 2,\n",
              "       0, 0, 0, 2, 2, 0, 2, 0, 2, 2, 0, 0, 0, 2, 0, 2, 0, 0, 2, 0, 0, 0,\n",
              "       0, 0, 0, 2, 0, 2, 0, 0, 0, 0, 2, 0, 2, 0, 2, 2, 0, 0, 0, 2, 0, 2,\n",
              "       0, 0, 2, 2, 0, 0, 2, 2, 0, 0, 0, 0, 2, 2, 0, 2, 2, 0, 0, 2, 0, 2,\n",
              "       0, 2, 0, 0, 2, 2, 0, 2, 2, 0, 2, 0, 2, 0, 0, 0, 2, 0, 2, 0, 0, 0,\n",
              "       0, 2, 0, 0, 2, 0, 0, 0, 0, 0, 0, 0, 0, 0, 0, 2, 0, 2, 0, 2, 2, 2,\n",
              "       2, 0, 0, 0, 0, 2, 2, 0, 0, 0, 0, 0, 0, 2, 2, 0, 2, 0, 2, 2, 2, 0,\n",
              "       2, 2, 0, 0, 2, 2, 0, 0, 2, 0, 0, 2, 0, 2, 0, 0, 2, 0, 0, 0, 0, 2,\n",
              "       0, 0, 2, 2, 2, 2, 2, 2, 0, 2, 0, 2, 2, 0, 0, 0, 2, 2, 0, 0, 0, 0,\n",
              "       0, 0, 0, 0, 0, 2, 2, 0, 0, 0, 0, 0, 0, 0, 0, 2, 0, 2, 2, 0, 0, 2,\n",
              "       2, 2, 2, 0, 2, 2, 0, 0, 2, 0, 0, 2, 0, 0, 0, 0, 0, 2, 0, 2, 0, 0,\n",
              "       2, 2, 0, 2, 0, 0, 0, 2, 2, 0, 2, 2, 0, 0, 2, 0, 0, 0, 2, 2, 0, 2,\n",
              "       0, 2, 2, 0, 0, 2, 0, 2, 2, 0, 0, 2, 0, 0, 2, 0, 0, 0, 0, 0, 0, 2,\n",
              "       2, 2, 0, 2, 2, 2, 0, 0, 2, 0, 2, 0, 0, 2, 2, 0, 2, 0, 0, 0, 2, 0,\n",
              "       0, 2, 0, 0, 0, 0, 0, 2, 0, 0, 0, 0, 0, 0, 0, 0, 2, 0, 2, 2, 0, 2,\n",
              "       0, 0, 2, 0, 2, 2, 2, 0, 0, 2, 0, 0, 0, 2, 0, 0, 2, 0, 2, 2, 2, 0,\n",
              "       2, 0, 0, 2, 0, 2, 0, 0, 0, 0, 0, 2, 0, 0, 0, 0, 2, 2, 2, 0, 0, 0,\n",
              "       2, 2, 0, 0, 2, 0, 0, 2, 0, 2, 0, 2, 0, 0, 0, 2, 2, 2, 2, 0, 0, 2,\n",
              "       2, 2, 2, 2, 0, 0, 0, 0, 0, 2, 2, 0, 0, 2, 2, 2, 0, 2, 0, 2, 2, 0,\n",
              "       2, 2, 0, 0, 0, 2, 2, 0, 0, 2, 0, 2, 2, 2, 0, 0, 2, 2, 0, 2, 0, 0,\n",
              "       2])"
            ]
          },
          "metadata": {},
          "execution_count": 36
        }
      ]
    },
    {
      "cell_type": "code",
      "source": [
        "y_test"
      ],
      "metadata": {
        "colab": {
          "base_uri": "https://localhost:8080/"
        },
        "id": "c3aWhqsFs99w",
        "outputId": "7aa8cc0a-9313-4f1c-e371-187d5f30af92"
      },
      "execution_count": 37,
      "outputs": [
        {
          "output_type": "execute_result",
          "data": {
            "text/plain": [
              "array([2, 2, 0, 0, 0, 0, 2, 2, 0, 2, 2, 2, 0, 0, 0, 0, 2, 2, 2, 0, 2, 2,\n",
              "       2, 0, 0, 0, 2, 2, 0, 0, 0, 2, 2, 0, 1, 2, 1, 0, 2, 0, 0, 0, 1, 2,\n",
              "       0, 0, 0, 2, 0, 2, 0, 0, 0, 0, 2, 2, 0, 2, 2, 0, 2, 0, 0, 1, 0, 2,\n",
              "       0, 2, 2, 2, 0, 2, 0, 0, 0, 2, 1, 2, 0, 0, 2, 0, 0, 2, 2, 0, 0, 2,\n",
              "       2, 0, 2, 0, 0, 0, 2, 0, 0, 0, 0, 2, 0, 0, 0, 2, 1, 2, 0, 2, 2, 0,\n",
              "       2, 0, 2, 0, 2, 0, 0, 2, 2, 2, 0, 0, 0, 2, 2, 2, 0, 0, 0, 2, 0, 2,\n",
              "       0, 0, 0, 2, 0, 2, 0, 0, 2, 0, 0, 2, 0, 2, 2, 2, 2, 0, 1, 2, 2, 0,\n",
              "       0, 2, 0, 0, 2, 2, 2, 2, 0, 0, 0, 0, 0, 0, 0, 2, 2, 0, 2, 0, 0, 2,\n",
              "       0, 2, 2, 2, 0, 0, 2, 2, 0, 2, 0, 0, 2, 0, 2, 0, 2, 1, 2, 0, 1, 2,\n",
              "       2, 2, 1, 2, 0, 0, 2, 2, 0, 0, 2, 0, 2, 2, 0, 0, 0, 2, 0, 0, 2, 2,\n",
              "       0, 0, 0, 1, 2, 1, 1, 0, 0, 2, 2, 0, 2, 0, 2, 2, 2, 2, 2, 0, 0, 0,\n",
              "       2, 0, 0, 2, 2, 0, 0, 0, 2, 0, 2, 0, 0, 0, 2, 0, 0, 0, 2, 0, 0, 2,\n",
              "       0, 0, 0, 2, 2, 2, 2, 0, 2, 0, 0, 0, 2, 2, 0, 1, 2, 2, 2, 0, 0, 2,\n",
              "       0, 0, 0, 2, 0, 0, 0, 0, 0, 0, 0, 0, 2, 2, 0, 0, 0, 2, 2, 0, 0, 0,\n",
              "       2, 0, 0, 0, 2, 0, 2, 1, 0, 0, 0, 0, 2, 0, 0, 0, 0, 0, 0, 2, 0, 0,\n",
              "       0, 2, 0, 2, 0, 2, 2, 2, 0, 1, 0, 0, 0, 2, 2, 0, 0, 2, 0, 0, 2, 2,\n",
              "       0, 0, 0, 0, 2, 1, 0, 0, 0, 0, 0, 0, 2, 2, 0, 0, 0, 0, 2, 0, 0, 0,\n",
              "       2, 0, 2, 0, 2, 2, 2, 2, 2, 2, 0, 2, 0, 0, 0, 0, 0, 0, 0, 0, 1, 2,\n",
              "       0, 2, 2, 0, 2, 1, 2, 0, 0, 2, 0, 1, 0, 2, 0, 0, 2, 0, 2, 1, 2, 2,\n",
              "       0, 0, 0, 2, 0, 2, 0, 2, 0, 0, 0, 0, 0, 0, 0, 0, 1, 0, 2, 2, 0, 2,\n",
              "       0, 2, 2, 2, 2, 2, 0, 2, 0, 0, 1, 1, 0, 2, 0, 0, 2, 2, 0, 0, 2, 0,\n",
              "       2, 0, 2, 0, 0, 0, 0, 0, 0, 2, 2, 0, 0, 2, 0, 2, 0, 0, 0, 0, 1, 2,\n",
              "       0, 0, 0, 2, 2, 0, 2, 0, 2, 2, 2, 0, 0, 2, 0, 2, 2, 0, 2, 2, 0, 0,\n",
              "       0, 0, 0, 2, 0, 2, 0, 0, 0, 0, 2, 0, 2, 0, 2, 2, 0, 0, 0, 2, 0, 2,\n",
              "       0, 0, 2, 2, 0, 0, 2, 2, 2, 0, 1, 0, 2, 2, 2, 2, 2, 0, 0, 0, 2, 2,\n",
              "       0, 2, 0, 0, 2, 2, 0, 2, 2, 0, 2, 0, 2, 0, 2, 0, 2, 0, 2, 0, 0, 0,\n",
              "       0, 2, 0, 0, 2, 0, 0, 0, 0, 0, 0, 0, 0, 0, 0, 2, 0, 2, 0, 2, 2, 0,\n",
              "       2, 0, 1, 0, 1, 2, 2, 0, 0, 0, 0, 2, 0, 2, 2, 1, 2, 0, 0, 2, 2, 0,\n",
              "       2, 2, 0, 0, 2, 2, 0, 0, 2, 0, 0, 2, 0, 2, 0, 0, 1, 0, 0, 0, 0, 2,\n",
              "       0, 0, 2, 2, 2, 2, 0, 0, 0, 2, 0, 2, 2, 2, 0, 0, 2, 0, 0, 0, 0, 0,\n",
              "       0, 0, 0, 0, 0, 2, 2, 0, 0, 1, 0, 0, 0, 0, 0, 2, 1, 2, 2, 0, 0, 2,\n",
              "       2, 2, 2, 0, 2, 0, 0, 0, 2, 0, 0, 1, 0, 0, 0, 0, 0, 2, 0, 2, 2, 0,\n",
              "       2, 1, 1, 2, 0, 1, 0, 2, 1, 0, 2, 0, 0, 0, 2, 0, 1, 0, 1, 2, 2, 2,\n",
              "       0, 2, 2, 0, 1, 2, 0, 0, 2, 0, 0, 2, 0, 0, 2, 1, 1, 0, 2, 2, 0, 2,\n",
              "       2, 2, 0, 2, 2, 2, 0, 0, 2, 0, 2, 0, 0, 2, 2, 0, 2, 0, 0, 0, 2, 2,\n",
              "       0, 2, 0, 0, 0, 0, 0, 2, 0, 0, 0, 0, 0, 1, 0, 0, 2, 2, 2, 2, 0, 2,\n",
              "       0, 1, 2, 0, 0, 2, 2, 0, 0, 2, 0, 2, 0, 2, 0, 0, 2, 0, 2, 1, 2, 0,\n",
              "       2, 0, 0, 2, 0, 2, 0, 1, 2, 0, 0, 0, 0, 0, 0, 0, 2, 2, 2, 0, 0, 0,\n",
              "       2, 2, 0, 0, 2, 0, 0, 2, 0, 2, 0, 2, 0, 0, 0, 2, 2, 2, 2, 0, 0, 2,\n",
              "       2, 2, 2, 2, 1, 0, 0, 2, 2, 2, 0, 0, 0, 2, 2, 2, 0, 2, 1, 0, 2, 1,\n",
              "       2, 2, 0, 0, 0, 2, 2, 0, 0, 0, 0, 2, 2, 2, 0, 1, 1, 2, 0, 2, 0, 0,\n",
              "       2])"
            ]
          },
          "metadata": {},
          "execution_count": 37
        }
      ]
    },
    {
      "cell_type": "markdown",
      "source": [
        "### Métricas resultantes del test"
      ],
      "metadata": {
        "id": "W2pDFmuXQ2Hi"
      }
    },
    {
      "cell_type": "code",
      "source": [
        "print(classification_report(y_test, y_pred_class, digits=5))"
      ],
      "metadata": {
        "colab": {
          "base_uri": "https://localhost:8080/"
        },
        "id": "AF3O5fkwGG7m",
        "outputId": "7f11a651-0c9e-40a6-8a46-4d1edb8c3af6"
      },
      "execution_count": 38,
      "outputs": [
        {
          "output_type": "stream",
          "name": "stdout",
          "text": [
            "              precision    recall  f1-score   support\n",
            "\n",
            "           0    0.83853   0.93840   0.88566       487\n",
            "           1    0.00000   0.00000   0.00000        51\n",
            "           2    0.87151   0.85479   0.86307       365\n",
            "\n",
            "    accuracy                        0.85161       903\n",
            "   macro avg    0.57001   0.59773   0.58291       903\n",
            "weighted avg    0.80450   0.85161   0.82651       903\n",
            "\n"
          ]
        },
        {
          "output_type": "stream",
          "name": "stderr",
          "text": [
            "/usr/local/lib/python3.7/dist-packages/sklearn/metrics/_classification.py:1318: UndefinedMetricWarning: Precision and F-score are ill-defined and being set to 0.0 in labels with no predicted samples. Use `zero_division` parameter to control this behavior.\n",
            "  _warn_prf(average, modifier, msg_start, len(result))\n",
            "/usr/local/lib/python3.7/dist-packages/sklearn/metrics/_classification.py:1318: UndefinedMetricWarning: Precision and F-score are ill-defined and being set to 0.0 in labels with no predicted samples. Use `zero_division` parameter to control this behavior.\n",
            "  _warn_prf(average, modifier, msg_start, len(result))\n",
            "/usr/local/lib/python3.7/dist-packages/sklearn/metrics/_classification.py:1318: UndefinedMetricWarning: Precision and F-score are ill-defined and being set to 0.0 in labels with no predicted samples. Use `zero_division` parameter to control this behavior.\n",
            "  _warn_prf(average, modifier, msg_start, len(result))\n"
          ]
        }
      ]
    },
    {
      "cell_type": "code",
      "source": [
        "# Matriz de confusión, ahora con \"más estilo\"\n",
        "print(sns.heatmap(confusion_matrix(y_test, y_pred_class), annot=True, fmt=\"d\"))\n",
        "\n",
        "# Hay problemas con la clase intermedia (neutro)\n",
        "# Se debe a que los datos están desbalanceados, pasa mucho en la vida real\n",
        "# Puede que se deba a que la distribución sea esa (muestreo correcto), o porque\n",
        "# tenemos algún sesgo, etc.\n",
        "\n",
        "# La cuestión es que... así como está, nuestra RNA reconoce únicamente comentarios\n",
        "# POSITIVOS y NEGATIVOS, para los NEUTRALES... hay que usar otra ruta o estrategias"
      ],
      "metadata": {
        "colab": {
          "base_uri": "https://localhost:8080/",
          "height": 283
        },
        "id": "AVvLIWbtGbl6",
        "outputId": "ea3f58ba-73bb-4dde-ddcf-ead11c9f6ab7"
      },
      "execution_count": 39,
      "outputs": [
        {
          "output_type": "stream",
          "name": "stdout",
          "text": [
            "AxesSubplot(0.125,0.125;0.62x0.755)\n"
          ]
        },
        {
          "output_type": "display_data",
          "data": {
            "text/plain": [
              "<Figure size 432x288 with 2 Axes>"
            ],
            "image/png": "[encoded data removed]"
          },
          "metadata": {
            "needs_background": "light"
          }
        }
      ]
    },
    {
      "cell_type": "markdown",
      "source": [
        "## Ejemplo de aplicación de la RNA"
      ],
      "metadata": {
        "id": "3AZqvR90Q4wQ"
      }
    },
    {
      "cell_type": "code",
      "source": [
        "# Pequeña función para pruebas con el modelo\n",
        "# Se realiza el mismo tratamiento original y se predice el sentimiento\n",
        "\n",
        "model.load_weights('weights.h5')\n",
        "def predict_sentimiento(stri):\n",
        "    review = ''.join(char for char in stri if (char.isalnum() or char.isspace()))\n",
        "    review = review.split()\n",
        "    review = [word for word in review if not word in es_stopwords]\n",
        "    review = ' '.join(review)\n",
        "    onehot_repr = [one_hot(review, VOCABULARIO_LIM)] \n",
        "    embed = pad_sequences(onehot_repr, padding='pre', maxlen=PAL_MAX)\n",
        "    predict = model.predict(embed)\n",
        "    return label_encoder.classes_[np.argmax(predict)]"
      ],
      "metadata": {
        "id": "Qa2De08hHCK2"
      },
      "execution_count": 40,
      "outputs": []
    },
    {
      "cell_type": "code",
      "source": [
        "# Pruebas predefinidas\n",
        "test_manual = [\"Pésima aplicación\",\n",
        "               \"Excelente aplicación\",\n",
        "               \"Podrían mejorar varios aspectos\",\n",
        "               \"Que se yo, regular\",\n",
        "               \"Hay muchos errores, pero me gusta\",\n",
        "               \"Una porquería, literalmente\",\n",
        "               \"Palabraquemeinventeahoraparaverqueonda\",\n",
        "               ]\n",
        "\n",
        "for comentario in test_manual:\n",
        "    print(\"Comentario: '{}' - Sentimiento: '{}'\".format(comentario, predict_sentimiento(comentario)))\n",
        "\n",
        "# ¿Tienen coherencia los resultados? "
      ],
      "metadata": {
        "colab": {
          "base_uri": "https://localhost:8080/"
        },
        "id": "bfz5jXkCHz8i",
        "outputId": "ecdb34d4-294f-41f2-af8f-a57f8ad72fb2"
      },
      "execution_count": 41,
      "outputs": [
        {
          "output_type": "stream",
          "name": "stdout",
          "text": [
            "Comentario: 'Pésima aplicación' - Sentimiento: 'negativo'\n",
            "Comentario: 'Excelente aplicación' - Sentimiento: 'positivo'\n",
            "Comentario: 'Podrían mejorar varios aspectos' - Sentimiento: 'negativo'\n",
            "Comentario: 'Que se yo, regular' - Sentimiento: 'negativo'\n",
            "Comentario: 'Hay muchos errores, pero me gusta' - Sentimiento: 'positivo'\n",
            "Comentario: 'Una porquería, literalmente' - Sentimiento: 'negativo'\n",
            "Comentario: 'Palabraquemeinventeahoraparaverqueonda' - Sentimiento: 'positivo'\n"
          ]
        }
      ]
    },
    {
      "cell_type": "code",
      "source": [
        "# Espacio para probar comentarios de forma continua\n",
        "# Para finalizar... cancelar la ejecución del bloque\n",
        "while True:\n",
        "    comentario = input(\"Escriba un comentario propio: \")\n",
        "    print(\"Su comentario es: '{}'\".format(predict_sentimiento(comentario)))"
      ],
      "metadata": {
        "colab": {
          "base_uri": "https://localhost:8080/"
        },
        "id": "rGTvNO8zn_a2",
        "outputId": "9df593b9-91bb-449f-ffd4-58c5f51c52d6"
      },
      "execution_count": 47,
      "outputs": [
        {
          "output_type": "stream",
          "name": "stdout",
          "text": [
            "Escriba un comentario propio: Realmente funciona? Me parece que hay mucho por mejorar, pero es algo\n",
            "Su comentario es: 'negativo'\n",
            "Escriba un comentario propio: Está bueno el taller :)\n",
            "Su comentario es: 'positivo'\n"
          ]
        }
      ]
    }
  ]
}